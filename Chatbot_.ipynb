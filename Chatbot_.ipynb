{
 "cells": [
  {
   "cell_type": "markdown",
   "metadata": {
    "id": "AhXEe_NfG9-K"
   },
   "source": [
    "**Imports**"
   ]
  },
  {
   "cell_type": "code",
   "execution_count": 1,
   "metadata": {
    "colab": {
     "base_uri": "https://localhost:8080/"
    },
    "id": "1v3VK2zz_rPU",
    "outputId": "aa379271-df44-4184-bed9-83bf2c1a5419"
   },
   "outputs": [
    {
     "name": "stderr",
     "output_type": "stream",
     "text": [
      "[nltk_data] Downloading package punkt to\n",
      "[nltk_data]     C:\\Users\\georg\\AppData\\Roaming\\nltk_data...\n",
      "[nltk_data]   Package punkt is already up-to-date!\n",
      "[nltk_data] Downloading package wordnet to\n",
      "[nltk_data]     C:\\Users\\georg\\AppData\\Roaming\\nltk_data...\n",
      "[nltk_data]   Package wordnet is already up-to-date!\n"
     ]
    }
   ],
   "source": [
    "import nltk\n",
    "from nltk.stem import WordNetLemmatizer\n",
    "import json\n",
    "import pickle\n",
    "import numpy as np\n",
    "from keras.models import Sequential\n",
    "from keras.layers import Dense, Activation, Dropout\n",
    "from keras.optimizers import SGD,Adam\n",
    "from keras.models import load_model\n",
    "import random\n",
    "nltk.download('punkt');\n",
    "nltk.download('wordnet');"
   ]
  },
  {
   "cell_type": "markdown",
   "metadata": {
    "id": "s1SHte_OI1Ip"
   },
   "source": [
    "**Load data from Json file**"
   ]
  },
  {
   "cell_type": "code",
   "execution_count": 2,
   "metadata": {
    "id": "iSDYEsuc_rLy"
   },
   "outputs": [],
   "source": [
    "puncc = ['?', '!']\n",
    "df = open('intents.json').read()\n",
    "intents = json.loads(df)"
   ]
  },
  {
   "cell_type": "code",
   "execution_count": 3,
   "metadata": {
    "id": "nNn5TbF4_rFJ"
   },
   "outputs": [],
   "source": [
    "words=[]\n",
    "tags = []\n",
    "documents = []\n",
    "for i in intents['intents']:\n",
    "    for p in i['patterns']:\n",
    "        w = nltk.word_tokenize(p)\n",
    "        words.extend(w)\n",
    "        documents.append((w, i['tag']))\n",
    "        if i['tag'] not in tags:\n",
    "            tags.append(i['tag'])"
   ]
  },
  {
   "cell_type": "markdown",
   "metadata": {
    "id": "_E1XsDXZJBnB"
   },
   "source": [
    "**Pre Processing**"
   ]
  },
  {
   "cell_type": "code",
   "execution_count": 4,
   "metadata": {
    "colab": {
     "base_uri": "https://localhost:8080/"
    },
    "id": "GfrUP--TEx3a",
    "outputId": "2a2ff19e-51f2-4900-f787-855556c2f932"
   },
   "outputs": [
    {
     "name": "stdout",
     "output_type": "stream",
     "text": [
      "47 documents\n",
      "9 classes\n",
      "88 unique lemmatized words\n"
     ]
    }
   ],
   "source": [
    "lemmatizer = WordNetLemmatizer()\n",
    "words = [lemmatizer.lemmatize(w.lower()) for w in words if w not in puncc]\n",
    "words = sorted(list(set(words)))\n",
    "# sort classes\n",
    "tags = sorted(list(set(tags)))\n",
    "# documents = combination between patterns and intents\n",
    "print (len(documents), \"documents\")\n",
    "# classes = intents\n",
    "print (len(tags), \"classes\")\n",
    "# words = all words, vocabulary\n",
    "print (len(words), \"unique lemmatized words\")\n",
    "pickle.dump(words,open('words.pkl','wb'))\n",
    "pickle.dump(tags,open('tags.pkl','wb'))"
   ]
  },
  {
   "cell_type": "code",
   "execution_count": 5,
   "metadata": {
    "colab": {
     "base_uri": "https://localhost:8080/"
    },
    "id": "LsSExaSyFmJf",
    "outputId": "d2648a68-0b29-43ae-9555-eefdacd715b7"
   },
   "outputs": [],
   "source": [
    "train_df = []\n",
    "output = [0] * len(tags)\n",
    "for d in documents:\n",
    "    # initialize  bag of words\n",
    "    bag = []\n",
    "    # list of tokenized words for the pattern\n",
    "    pattern_words = d[0]\n",
    "    # lemmatize each word - create base word, in attempt to represent related words\n",
    "    pattern_words = [lemmatizer.lemmatize(word.lower()) for word in pattern_words]\n",
    "    # create our bag of words array with 1, if word match found in current pattern\n",
    "    for w in words:\n",
    "        bag.append(1) if w in pattern_words else bag.append(0)\n",
    "\n",
    "    # output is a '0' for each tag and '1' for current tag (for each pattern)\n",
    "    output_row = list(output)\n",
    "    output_row[tags.index(d[1])] = 1\n",
    "    \n",
    "    train_df.append([bag, output_row])"
   ]
  },
  {
   "cell_type": "code",
   "execution_count": 6,
   "metadata": {
    "colab": {
     "base_uri": "https://localhost:8080/"
    },
    "id": "hr1Cf1fVHuvR",
    "outputId": "39be6b22-a94f-4b4a-8477-84fa4049717f"
   },
   "outputs": [
    {
     "name": "stderr",
     "output_type": "stream",
     "text": [
      "<ipython-input-6-829d164ae1d0>:2: VisibleDeprecationWarning: Creating an ndarray from ragged nested sequences (which is a list-or-tuple of lists-or-tuples-or ndarrays with different lengths or shapes) is deprecated. If you meant to do this, you must specify 'dtype=object' when creating the ndarray.\n",
      "  train_df = np.array(train_df)\n"
     ]
    }
   ],
   "source": [
    "random.shuffle(train_df);\n",
    "train_df = np.array(train_df)\n",
    "train_x = list(train_df[:,0])\n",
    "train_y = list(train_df[:,1])"
   ]
  },
  {
   "cell_type": "markdown",
   "metadata": {},
   "source": [
    "### Model"
   ]
  },
  {
   "cell_type": "code",
   "execution_count": 7,
   "metadata": {
    "colab": {
     "base_uri": "https://localhost:8080/"
    },
    "id": "h2pp-36wId7q",
    "outputId": "8279cb54-19fb-41a2-b9e2-5479138047b9"
   },
   "outputs": [
    {
     "name": "stdout",
     "output_type": "stream",
     "text": [
      "Epoch 1/100\n",
      "10/10 [==============================] - 1s 2ms/step - loss: 2.1917 - accuracy: 0.1915\n",
      "Epoch 2/100\n",
      "10/10 [==============================] - 0s 2ms/step - loss: 2.2277 - accuracy: 0.1277\n",
      "Epoch 3/100\n",
      "10/10 [==============================] - 0s 2ms/step - loss: 2.1893 - accuracy: 0.1489\n",
      "Epoch 4/100\n",
      "10/10 [==============================] - 0s 2ms/step - loss: 2.2513 - accuracy: 0.1277\n",
      "Epoch 5/100\n",
      "10/10 [==============================] - 0s 2ms/step - loss: 2.1963 - accuracy: 0.0851\n",
      "Epoch 6/100\n",
      "10/10 [==============================] - 0s 2ms/step - loss: 2.1537 - accuracy: 0.1277\n",
      "Epoch 7/100\n",
      "10/10 [==============================] - 0s 2ms/step - loss: 2.1319 - accuracy: 0.1915\n",
      "Epoch 8/100\n",
      "10/10 [==============================] - 0s 2ms/step - loss: 2.0980 - accuracy: 0.1915\n",
      "Epoch 9/100\n",
      "10/10 [==============================] - 0s 2ms/step - loss: 2.0727 - accuracy: 0.2979\n",
      "Epoch 10/100\n",
      "10/10 [==============================] - 0s 2ms/step - loss: 2.0576 - accuracy: 0.1915\n",
      "Epoch 11/100\n",
      "10/10 [==============================] - 0s 2ms/step - loss: 2.0745 - accuracy: 0.2766\n",
      "Epoch 12/100\n",
      "10/10 [==============================] - 0s 2ms/step - loss: 2.0134 - accuracy: 0.2340\n",
      "Epoch 13/100\n",
      "10/10 [==============================] - 0s 2ms/step - loss: 1.9173 - accuracy: 0.3617\n",
      "Epoch 14/100\n",
      "10/10 [==============================] - 0s 2ms/step - loss: 1.8596 - accuracy: 0.3830\n",
      "Epoch 15/100\n",
      "10/10 [==============================] - 0s 2ms/step - loss: 1.9137 - accuracy: 0.3191\n",
      "Epoch 16/100\n",
      "10/10 [==============================] - 0s 2ms/step - loss: 1.8097 - accuracy: 0.3617\n",
      "Epoch 17/100\n",
      "10/10 [==============================] - 0s 2ms/step - loss: 1.7966 - accuracy: 0.4043\n",
      "Epoch 18/100\n",
      "10/10 [==============================] - 0s 2ms/step - loss: 1.8030 - accuracy: 0.4043\n",
      "Epoch 19/100\n",
      "10/10 [==============================] - 0s 2ms/step - loss: 1.7241 - accuracy: 0.3830\n",
      "Epoch 20/100\n",
      "10/10 [==============================] - 0s 2ms/step - loss: 1.6384 - accuracy: 0.5532\n",
      "Epoch 21/100\n",
      "10/10 [==============================] - 0s 2ms/step - loss: 1.6399 - accuracy: 0.4043\n",
      "Epoch 22/100\n",
      "10/10 [==============================] - 0s 2ms/step - loss: 1.5073 - accuracy: 0.5106\n",
      "Epoch 23/100\n",
      "10/10 [==============================] - 0s 2ms/step - loss: 1.6073 - accuracy: 0.4468\n",
      "Epoch 24/100\n",
      "10/10 [==============================] - 0s 2ms/step - loss: 1.4875 - accuracy: 0.4894\n",
      "Epoch 25/100\n",
      "10/10 [==============================] - 0s 2ms/step - loss: 1.3927 - accuracy: 0.5532\n",
      "Epoch 26/100\n",
      "10/10 [==============================] - 0s 2ms/step - loss: 1.4286 - accuracy: 0.5319\n",
      "Epoch 27/100\n",
      "10/10 [==============================] - 0s 2ms/step - loss: 1.3611 - accuracy: 0.4681\n",
      "Epoch 28/100\n",
      "10/10 [==============================] - 0s 2ms/step - loss: 1.3860 - accuracy: 0.5319\n",
      "Epoch 29/100\n",
      "10/10 [==============================] - 0s 2ms/step - loss: 1.2505 - accuracy: 0.5532\n",
      "Epoch 30/100\n",
      "10/10 [==============================] - 0s 2ms/step - loss: 1.2129 - accuracy: 0.6383\n",
      "Epoch 31/100\n",
      "10/10 [==============================] - 0s 2ms/step - loss: 1.2161 - accuracy: 0.5745\n",
      "Epoch 32/100\n",
      "10/10 [==============================] - 0s 2ms/step - loss: 1.1693 - accuracy: 0.5745\n",
      "Epoch 33/100\n",
      "10/10 [==============================] - 0s 2ms/step - loss: 1.1321 - accuracy: 0.5745\n",
      "Epoch 34/100\n",
      "10/10 [==============================] - 0s 2ms/step - loss: 1.2236 - accuracy: 0.6170\n",
      "Epoch 35/100\n",
      "10/10 [==============================] - 0s 2ms/step - loss: 0.9332 - accuracy: 0.7234\n",
      "Epoch 36/100\n",
      "10/10 [==============================] - 0s 2ms/step - loss: 0.9068 - accuracy: 0.7234\n",
      "Epoch 37/100\n",
      "10/10 [==============================] - 0s 2ms/step - loss: 1.2124 - accuracy: 0.5532\n",
      "Epoch 38/100\n",
      "10/10 [==============================] - 0s 2ms/step - loss: 0.8060 - accuracy: 0.7447\n",
      "Epoch 39/100\n",
      "10/10 [==============================] - 0s 2ms/step - loss: 1.0133 - accuracy: 0.5957\n",
      "Epoch 40/100\n",
      "10/10 [==============================] - 0s 2ms/step - loss: 0.6594 - accuracy: 0.8511\n",
      "Epoch 41/100\n",
      "10/10 [==============================] - 0s 2ms/step - loss: 0.8106 - accuracy: 0.7234\n",
      "Epoch 42/100\n",
      "10/10 [==============================] - 0s 2ms/step - loss: 0.8068 - accuracy: 0.8085\n",
      "Epoch 43/100\n",
      "10/10 [==============================] - 0s 2ms/step - loss: 1.0060 - accuracy: 0.5957\n",
      "Epoch 44/100\n",
      "10/10 [==============================] - 0s 2ms/step - loss: 0.6889 - accuracy: 0.8511\n",
      "Epoch 45/100\n",
      "10/10 [==============================] - 0s 2ms/step - loss: 0.7802 - accuracy: 0.7447\n",
      "Epoch 46/100\n",
      "10/10 [==============================] - 0s 2ms/step - loss: 0.7099 - accuracy: 0.7021\n",
      "Epoch 47/100\n",
      "10/10 [==============================] - 0s 2ms/step - loss: 0.7125 - accuracy: 0.7447\n",
      "Epoch 48/100\n",
      "10/10 [==============================] - 0s 2ms/step - loss: 0.7614 - accuracy: 0.7234\n",
      "Epoch 49/100\n",
      "10/10 [==============================] - 0s 2ms/step - loss: 0.6843 - accuracy: 0.8298\n",
      "Epoch 50/100\n",
      "10/10 [==============================] - 0s 2ms/step - loss: 0.7479 - accuracy: 0.7447\n",
      "Epoch 51/100\n",
      "10/10 [==============================] - 0s 2ms/step - loss: 0.5993 - accuracy: 0.7872\n",
      "Epoch 52/100\n",
      "10/10 [==============================] - 0s 2ms/step - loss: 0.4907 - accuracy: 0.8723\n",
      "Epoch 53/100\n",
      "10/10 [==============================] - 0s 2ms/step - loss: 0.4905 - accuracy: 0.8936\n",
      "Epoch 54/100\n",
      "10/10 [==============================] - 0s 2ms/step - loss: 0.4809 - accuracy: 0.8085\n",
      "Epoch 55/100\n",
      "10/10 [==============================] - 0s 2ms/step - loss: 0.5718 - accuracy: 0.8085\n",
      "Epoch 56/100\n",
      "10/10 [==============================] - 0s 2ms/step - loss: 0.4582 - accuracy: 0.9149\n",
      "Epoch 57/100\n",
      "10/10 [==============================] - 0s 2ms/step - loss: 0.4214 - accuracy: 0.8511\n",
      "Epoch 58/100\n",
      "10/10 [==============================] - 0s 2ms/step - loss: 0.4475 - accuracy: 0.8298\n",
      "Epoch 59/100\n",
      "10/10 [==============================] - 0s 2ms/step - loss: 0.2756 - accuracy: 0.9574\n",
      "Epoch 60/100\n",
      "10/10 [==============================] - 0s 2ms/step - loss: 0.4028 - accuracy: 0.8723\n",
      "Epoch 61/100\n",
      "10/10 [==============================] - 0s 2ms/step - loss: 0.5275 - accuracy: 0.8298\n",
      "Epoch 62/100\n",
      "10/10 [==============================] - 0s 2ms/step - loss: 0.4934 - accuracy: 0.8298\n",
      "Epoch 63/100\n",
      "10/10 [==============================] - 0s 2ms/step - loss: 0.3828 - accuracy: 0.9362\n",
      "Epoch 64/100\n",
      "10/10 [==============================] - 0s 2ms/step - loss: 0.3542 - accuracy: 0.9149\n",
      "Epoch 65/100\n",
      "10/10 [==============================] - 0s 2ms/step - loss: 0.6069 - accuracy: 0.8511\n",
      "Epoch 66/100\n",
      "10/10 [==============================] - 0s 2ms/step - loss: 0.4763 - accuracy: 0.8511\n",
      "Epoch 67/100\n",
      "10/10 [==============================] - 0s 2ms/step - loss: 0.5122 - accuracy: 0.8298\n",
      "Epoch 68/100\n",
      "10/10 [==============================] - 0s 2ms/step - loss: 0.3377 - accuracy: 0.9362\n",
      "Epoch 69/100\n",
      "10/10 [==============================] - 0s 2ms/step - loss: 0.3659 - accuracy: 0.8298\n",
      "Epoch 70/100\n",
      "10/10 [==============================] - 0s 2ms/step - loss: 0.6059 - accuracy: 0.8298\n",
      "Epoch 71/100\n",
      "10/10 [==============================] - 0s 2ms/step - loss: 0.3803 - accuracy: 0.8723\n",
      "Epoch 72/100\n",
      "10/10 [==============================] - 0s 2ms/step - loss: 0.6481 - accuracy: 0.8298\n",
      "Epoch 73/100\n",
      "10/10 [==============================] - 0s 2ms/step - loss: 0.3944 - accuracy: 0.8085\n",
      "Epoch 74/100\n",
      "10/10 [==============================] - 0s 2ms/step - loss: 0.1751 - accuracy: 0.9787\n",
      "Epoch 75/100\n",
      "10/10 [==============================] - 0s 2ms/step - loss: 0.2447 - accuracy: 0.9149\n",
      "Epoch 76/100\n",
      "10/10 [==============================] - 0s 2ms/step - loss: 0.5001 - accuracy: 0.8298\n",
      "Epoch 77/100\n",
      "10/10 [==============================] - 0s 2ms/step - loss: 0.4734 - accuracy: 0.8511\n",
      "Epoch 78/100\n",
      "10/10 [==============================] - 0s 2ms/step - loss: 0.2813 - accuracy: 0.9362\n",
      "Epoch 79/100\n",
      "10/10 [==============================] - 0s 2ms/step - loss: 0.3722 - accuracy: 0.8511\n",
      "Epoch 80/100\n",
      "10/10 [==============================] - 0s 2ms/step - loss: 0.3284 - accuracy: 0.9149\n",
      "Epoch 81/100\n",
      "10/10 [==============================] - 0s 2ms/step - loss: 0.3200 - accuracy: 0.9149\n",
      "Epoch 82/100\n",
      "10/10 [==============================] - 0s 2ms/step - loss: 0.2449 - accuracy: 0.9787\n",
      "Epoch 83/100\n"
     ]
    },
    {
     "name": "stdout",
     "output_type": "stream",
     "text": [
      "10/10 [==============================] - 0s 1ms/step - loss: 0.2520 - accuracy: 0.9362\n",
      "Epoch 84/100\n",
      "10/10 [==============================] - 0s 2ms/step - loss: 0.2675 - accuracy: 0.8936\n",
      "Epoch 85/100\n",
      "10/10 [==============================] - 0s 2ms/step - loss: 0.2613 - accuracy: 0.9362\n",
      "Epoch 86/100\n",
      "10/10 [==============================] - 0s 2ms/step - loss: 0.2422 - accuracy: 0.9574\n",
      "Epoch 87/100\n",
      "10/10 [==============================] - 0s 2ms/step - loss: 0.1712 - accuracy: 0.9787\n",
      "Epoch 88/100\n",
      "10/10 [==============================] - 0s 2ms/step - loss: 0.3299 - accuracy: 0.8936\n",
      "Epoch 89/100\n",
      "10/10 [==============================] - 0s 2ms/step - loss: 0.2549 - accuracy: 0.9362\n",
      "Epoch 90/100\n",
      "10/10 [==============================] - 0s 2ms/step - loss: 0.1681 - accuracy: 0.9787\n",
      "Epoch 91/100\n",
      "10/10 [==============================] - 0s 2ms/step - loss: 0.1340 - accuracy: 0.9787\n",
      "Epoch 92/100\n",
      "10/10 [==============================] - 0s 2ms/step - loss: 0.2707 - accuracy: 0.8723\n",
      "Epoch 93/100\n",
      "10/10 [==============================] - 0s 2ms/step - loss: 0.1514 - accuracy: 0.9787\n",
      "Epoch 94/100\n",
      "10/10 [==============================] - 0s 2ms/step - loss: 0.2374 - accuracy: 0.9574\n",
      "Epoch 95/100\n",
      "10/10 [==============================] - 0s 2ms/step - loss: 0.1595 - accuracy: 0.9787\n",
      "Epoch 96/100\n",
      "10/10 [==============================] - 0s 2ms/step - loss: 0.2588 - accuracy: 0.9149\n",
      "Epoch 97/100\n",
      "10/10 [==============================] - 0s 2ms/step - loss: 0.1386 - accuracy: 0.9574\n",
      "Epoch 98/100\n",
      "10/10 [==============================] - 0s 2ms/step - loss: 0.2036 - accuracy: 0.9362\n",
      "Epoch 99/100\n",
      "10/10 [==============================] - 0s 2ms/step - loss: 0.1782 - accuracy: 0.9362\n",
      "Epoch 100/100\n",
      "10/10 [==============================] - 0s 2ms/step - loss: 0.1506 - accuracy: 0.9787\n"
     ]
    }
   ],
   "source": [
    "model = Sequential()\n",
    "model.add(Dense(128, input_shape=(len(train_x[0]),), activation='relu'))\n",
    "model.add(Dropout(0.5))\n",
    "model.add(Dense(64, activation='relu'))\n",
    "model.add(Dropout(0.5))\n",
    "model.add(Dense(64, activation='relu'))\n",
    "model.add(Dropout(0.5))\n",
    "model.add(Dense(len(train_y[0]), activation='softmax'))\n",
    "model.compile(loss='categorical_crossentropy', optimizer= 'adam', metrics=['accuracy'])\n",
    "hist = model.fit(np.array(train_x), np.array(train_y), epochs=100, batch_size=5, verbose=1)\n",
    "model.save('chatbot_model.h5', hist)"
   ]
  },
  {
   "cell_type": "markdown",
   "metadata": {
    "id": "yAi-yaFAG8uN"
   },
   "source": [
    "##### Load Model"
   ]
  },
  {
   "cell_type": "code",
   "execution_count": 8,
   "metadata": {
    "id": "mmrmJK4GREKl"
   },
   "outputs": [],
   "source": [
    "model = load_model('chatbot_model.h5')\n",
    "intents = json.loads(open('intents.json').read())\n",
    "words = pickle.load(open('words.pkl','rb'))\n",
    "classes = pickle.load(open('tags.pkl','rb'))"
   ]
  },
  {
   "cell_type": "code",
   "execution_count": 9,
   "metadata": {
    "id": "osUe2K7nSkb7"
   },
   "outputs": [],
   "source": [
    "def clean_up_input(input):\n",
    "    sentence_words = nltk.word_tokenize(input)\n",
    "    sentence_words = [lemmatizer.lemmatize(word.lower()) for word in sentence_words]\n",
    "    return sentence_words\n",
    "# return bag of words array: 0 or 1 for each word in the bag that exists in the sentence\n",
    "\n",
    "def bow(input, words, show_details=True):\n",
    "\n",
    "    sentence_words = clean_up_input(input)\n",
    "    bag = [0]*len(words) \n",
    "    for s in sentence_words:\n",
    "        for i,w in enumerate(words):\n",
    "            if w == s: \n",
    "                # assign 1 if current word is in the vocabulary position\n",
    "                bag[i] = 1\n",
    "                if show_details:\n",
    "                    print (\"found in bag: %s\" % w)\n",
    "    return(np.array(bag))\n",
    "\n",
    "def predict_class(input, model):\n",
    "    # filter out predictions below a threshold\n",
    "    p = bow(input, words,show_details=False)\n",
    "    res = model.predict(np.array([p]),verbose=0)[0]\n",
    "    \n",
    "    results = [[i,r] for i,r in enumerate(res) ]\n",
    "    # sort by strength of probability\n",
    "    results.sort(key=lambda x: x[1], reverse=True)\n",
    "    return_list = []\n",
    "    for r in results:\n",
    "        return_list.append({\"intent\": classes[r[0]], \"probability\": str(r[1])})\n",
    "    return return_list"
   ]
  },
  {
   "cell_type": "code",
   "execution_count": 10,
   "metadata": {
    "id": "HveVe3F4SqMl"
   },
   "outputs": [],
   "source": [
    "def getResponse(ints, intents_json):\n",
    "    tag = ints[0]['intent']\n",
    "    list_of_intents = intents_json['intents']\n",
    "    for i in list_of_intents:\n",
    "        if(i['tag']== tag):\n",
    "            result = random.choice(i['responses'])\n",
    "            break\n",
    "    return result\n"
   ]
  },
  {
   "cell_type": "code",
   "execution_count": 11,
   "metadata": {
    "id": "9j8a0j5Ua95M"
   },
   "outputs": [],
   "source": [
    "def chatbot_response(text):\n",
    "    ints = predict_class(text, model)\n",
    "    res = getResponse(ints, intents)\n",
    "    return res"
   ]
  },
  {
   "cell_type": "markdown",
   "metadata": {
    "colab": {
     "base_uri": "https://localhost:8080/"
    },
    "id": "nNCLeRAFTQW4",
    "outputId": "fc9d10f5-0f30-4cb3-ee34-e23217309b12"
   },
   "source": [
    "## GUI"
   ]
  },
  {
   "cell_type": "code",
   "execution_count": null,
   "metadata": {},
   "outputs": [],
   "source": [
    "#Creating GUI with tkinter\n",
    "import tkinter\n",
    "from tkinter import *\n",
    "\n",
    "\n",
    "def send():\n",
    "    msg = EntryBox.get(\"1.0\",'end-1c').strip()\n",
    "    EntryBox.delete(\"0.0\",END)\n",
    "\n",
    "    if msg != '':\n",
    "        ChatLog.config(state=NORMAL)\n",
    "        ChatLog.insert(END, \"You: \" + msg + '\\n\\n')\n",
    "        ChatLog.config(foreground=\"#442265\", font=(\"Verdana\", 12 ))\n",
    "\n",
    "        res = chatbot_response(msg)\n",
    "        ChatLog.insert(END, \"Bot: \" + res + '\\n\\n')\n",
    "\n",
    "        ChatLog.config(state=DISABLED)\n",
    "        ChatLog.yview(END)\n",
    "\n",
    "base = Tk()\n",
    "base.title(\"Chatbot\")\n",
    "base.geometry(\"400x500\")\n",
    "base.resizable(width=FALSE, height=FALSE)\n",
    "\n",
    "#Create Chat window\n",
    "ChatLog = Text(base, bd=0, bg=\"white\", height=\"8\", width=\"50\", font=\"Arial\",)\n",
    "\n",
    "ChatLog.config(state=DISABLED)\n",
    "\n",
    "#Bind scrollbar to Chat window\n",
    "scrollbar = Scrollbar(base, command=ChatLog.yview, cursor=\"heart\")\n",
    "ChatLog['yscrollcommand'] = scrollbar.set\n",
    "\n",
    "#Create Button to send message\n",
    "SendButton = Button(base, font=(\"Verdana\",12,'bold'), text=\"Send\", width=\"12\", height=5,\n",
    "                    bd=0, bg=\"#19d2e9\", activebackground=\"#3c9d9b\",fg='#ffffff',\n",
    "                    command= send )\n",
    "\n",
    "#Create the box to enter message\n",
    "EntryBox = Text(base, bd=0, bg=\"white\",width=\"29\", height=\"5\", font=\"Arial\")\n",
    "#EntryBox.bind(\"<Return>\", send)\n",
    "\n",
    "\n",
    "#Place all components on the screen\n",
    "scrollbar.place(x=376,y=6, height=386)\n",
    "ChatLog.place(x=6,y=6, height=386, width=370)\n",
    "EntryBox.place(x=128, y=401, height=90, width=265)\n",
    "SendButton.place(x=6, y=401, height=90)\n",
    "\n",
    "base.mainloop()"
   ]
  }
 ],
 "metadata": {
  "accelerator": "GPU",
  "colab": {
   "provenance": []
  },
  "gpuClass": "standard",
  "kernelspec": {
   "display_name": "Python 3",
   "language": "python",
   "name": "python3"
  },
  "language_info": {
   "codemirror_mode": {
    "name": "ipython",
    "version": 3
   },
   "file_extension": ".py",
   "mimetype": "text/x-python",
   "name": "python",
   "nbconvert_exporter": "python",
   "pygments_lexer": "ipython3",
   "version": "3.8.3"
  }
 },
 "nbformat": 4,
 "nbformat_minor": 1
}
